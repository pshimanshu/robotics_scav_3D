{
  "nbformat": 4,
  "nbformat_minor": 0,
  "metadata": {
    "colab": {
      "name": "Testing.ipynb",
      "provenance": [],
      "collapsed_sections": []
    },
    "kernelspec": {
      "name": "python3",
      "display_name": "Python 3"
    },
    "language_info": {
      "name": "python"
    }
  },
  "cells": [
    {
      "cell_type": "code",
      "metadata": {
        "id": "i4wWRtC5WIbv"
      },
      "source": [
        "import os\n",
        "os.environ[\"TF_CPP_MIN_LOG_LEVEL\"] = \"2\"\n",
        "import numpy as np\n",
        "import cv2\n",
        "import pandas as pd\n",
        "from glob import glob\n",
        "from tqdm import tqdm\n",
        "import tensorflow as tf\n",
        "from tensorflow.keras.utils import CustomObjectScope\n",
        "from sklearn.metrics import accuracy_score,f1_score,jaccard_score,precision_score,recall_score\n",
        "from sklearn.utils import shuffle\n",
        "from sklearn.model_selection import train_test_split"
      ],
      "execution_count": 1,
      "outputs": []
    },
    {
      "cell_type": "code",
      "metadata": {
        "colab": {
          "base_uri": "https://localhost:8080/"
        },
        "id": "vzPKDR2vW-94",
        "outputId": "186b4554-a0ce-4c40-ed50-7a2a13c22434"
      },
      "source": [
        "%cd drive/MyDrive/data_semantics/\n",
        "path = os.getcwd()"
      ],
      "execution_count": 2,
      "outputs": [
        {
          "output_type": "stream",
          "text": [
            "/content/drive/MyDrive/data_semantics\n"
          ],
          "name": "stdout"
        }
      ]
    },
    {
      "cell_type": "code",
      "metadata": {
        "id": "tSAmFZg9WbD-"
      },
      "source": [
        "\n",
        "smooth = 1e-15\n",
        "def iou(y_true,y_pred):         # converting simple function to tensor\n",
        "    def f(y_true,y_pred):\n",
        "        intersection = (y_true*y_pred).sum()\n",
        "        union = y_true.sum() + y_pred.sum() - intersection\n",
        "        x = (intersection + smooth) / (union + smooth)\n",
        "        x = x.astype(np.float32)\n",
        "        return x\n",
        "    return tf.numpy_function(f,[y_true,y_pred],tf.float32)\n",
        "\n",
        "def dice_coef(y_true,y_pred):      # build function using tensor\n",
        "    y_true = Flatten()(y_true)     # make tensor here itself\n",
        "    y_pred = Flatten()(y_pred)\n",
        "    intersection = tf.reduce_sum(y_true*y_pred)\n",
        "    return (2.*intersection + smooth)/(tf.reduce_sum(y_true)+tf.reduce_sum(y_pred)+smooth)\n",
        "\n",
        "# Using cross entropy is more of a proxy which is easier to maximize\n",
        "def dice_loss(y_true,y_pred):       # perform better at class imbalanced problems\n",
        "    return 1.0 - dice_coef(y_true,y_pred)\n",
        "\n",
        "# we'll use a specialized loss function that combines binary cross entropy and our dice loss ##################\n",
        "def bce_dice_loss(y_true,y_pred):\n",
        "    loss=losses.binary_crossentropy(y_true, y_pred) + dice_loss(y_true, y_pred)\n",
        "    return loss"
      ],
      "execution_count": 3,
      "outputs": []
    },
    {
      "cell_type": "code",
      "metadata": {
        "id": "vggd6AsfWFZw"
      },
      "source": [
        "\n",
        "h = 256\n",
        "w = 256\n",
        "\n",
        "def create_dir(path):\n",
        "    if not os.path.exists(path):\n",
        "        os.makedirs(path)\n",
        "    \n",
        "def read_image(path):\n",
        "    x = cv2.imread(path,cv2.IMREAD_COLOR)\n",
        "    Shape_ori = x.shape\n",
        "    original_x = x\n",
        "    x = cv2.resize(x,(w,h))\n",
        "    x = x/255.0 \n",
        "    x = x.astype(np.float32)\n",
        "    x = np.expand_dims(x,axis=0)\n",
        "    return original_x,x,Shape_ori\n",
        "\n",
        "def load_data(path):\n",
        "    # important\n",
        "    images = sorted(glob(os.path.join(path,\"*.png\")))\n",
        "    return images\n",
        "\n",
        "def save_result(x,y,save_path,shape):\n",
        "    y_new = y\n",
        "    y_new = np.expand_dims(y_new,axis=-1)  \n",
        "    line = np.ones ((10,shape[1],3)) * 255    \n",
        "    ypred = np.concatenate([y_new, y_new, y_new],axis=-1) *255.0\n",
        "#     print(ypred.shape)\n",
        "#     print(x.shape)\n",
        "#     print(line.shape)\n",
        "#     cat_img = np.concatenate([x,line,ypred],axis=1)\n",
        "    cat_img = np.concatenate([x,line,ypred],axis=0)\n",
        "#     print(save_path)\n",
        "    \n",
        "    a=cv2.imwrite(save_path,cat_img)"
      ],
      "execution_count": 4,
      "outputs": []
    },
    {
      "cell_type": "code",
      "metadata": {
        "colab": {
          "base_uri": "https://localhost:8080/"
        },
        "id": "FXN2QYv0Wz8d",
        "outputId": "4c42578a-de11-4ab7-8976-364408df53ad"
      },
      "source": [
        "\n",
        "with CustomObjectScope({'iou':iou,'dice_coef':dice_coef,'dice_loss':dice_loss,'bce_dice_loss':bce_dice_loss}):\n",
        "    model = tf.keras.models.load_model(\"new_files/model.h5\")\n",
        "model.summary()"
      ],
      "execution_count": 5,
      "outputs": [
        {
          "output_type": "stream",
          "text": [
            "Model: \"UNET\"\n",
            "__________________________________________________________________________________________________\n",
            "Layer (type)                    Output Shape         Param #     Connected to                     \n",
            "==================================================================================================\n",
            "input_5 (InputLayer)            [(None, 256, 256, 3) 0                                            \n",
            "__________________________________________________________________________________________________\n",
            "conv2d_76 (Conv2D)              (None, 256, 256, 64) 1792        input_5[0][0]                    \n",
            "__________________________________________________________________________________________________\n",
            "batch_normalization_88 (BatchNo (None, 256, 256, 64) 256         conv2d_76[0][0]                  \n",
            "__________________________________________________________________________________________________\n",
            "activation_88 (Activation)      (None, 256, 256, 64) 0           batch_normalization_88[0][0]     \n",
            "__________________________________________________________________________________________________\n",
            "conv2d_77 (Conv2D)              (None, 256, 256, 64) 36928       activation_88[0][0]              \n",
            "__________________________________________________________________________________________________\n",
            "batch_normalization_89 (BatchNo (None, 256, 256, 64) 256         conv2d_77[0][0]                  \n",
            "__________________________________________________________________________________________________\n",
            "activation_89 (Activation)      (None, 256, 256, 64) 0           batch_normalization_89[0][0]     \n",
            "__________________________________________________________________________________________________\n",
            "max_pooling2d_16 (MaxPooling2D) (None, 128, 128, 64) 0           activation_89[0][0]              \n",
            "__________________________________________________________________________________________________\n",
            "conv2d_78 (Conv2D)              (None, 128, 128, 128 73856       max_pooling2d_16[0][0]           \n",
            "__________________________________________________________________________________________________\n",
            "batch_normalization_90 (BatchNo (None, 128, 128, 128 512         conv2d_78[0][0]                  \n",
            "__________________________________________________________________________________________________\n",
            "activation_90 (Activation)      (None, 128, 128, 128 0           batch_normalization_90[0][0]     \n",
            "__________________________________________________________________________________________________\n",
            "conv2d_79 (Conv2D)              (None, 128, 128, 128 147584      activation_90[0][0]              \n",
            "__________________________________________________________________________________________________\n",
            "batch_normalization_91 (BatchNo (None, 128, 128, 128 512         conv2d_79[0][0]                  \n",
            "__________________________________________________________________________________________________\n",
            "activation_91 (Activation)      (None, 128, 128, 128 0           batch_normalization_91[0][0]     \n",
            "__________________________________________________________________________________________________\n",
            "max_pooling2d_17 (MaxPooling2D) (None, 64, 64, 128)  0           activation_91[0][0]              \n",
            "__________________________________________________________________________________________________\n",
            "conv2d_80 (Conv2D)              (None, 64, 64, 256)  295168      max_pooling2d_17[0][0]           \n",
            "__________________________________________________________________________________________________\n",
            "batch_normalization_92 (BatchNo (None, 64, 64, 256)  1024        conv2d_80[0][0]                  \n",
            "__________________________________________________________________________________________________\n",
            "activation_92 (Activation)      (None, 64, 64, 256)  0           batch_normalization_92[0][0]     \n",
            "__________________________________________________________________________________________________\n",
            "conv2d_81 (Conv2D)              (None, 64, 64, 256)  590080      activation_92[0][0]              \n",
            "__________________________________________________________________________________________________\n",
            "batch_normalization_93 (BatchNo (None, 64, 64, 256)  1024        conv2d_81[0][0]                  \n",
            "__________________________________________________________________________________________________\n",
            "activation_93 (Activation)      (None, 64, 64, 256)  0           batch_normalization_93[0][0]     \n",
            "__________________________________________________________________________________________________\n",
            "max_pooling2d_18 (MaxPooling2D) (None, 32, 32, 256)  0           activation_93[0][0]              \n",
            "__________________________________________________________________________________________________\n",
            "conv2d_82 (Conv2D)              (None, 32, 32, 512)  1180160     max_pooling2d_18[0][0]           \n",
            "__________________________________________________________________________________________________\n",
            "batch_normalization_94 (BatchNo (None, 32, 32, 512)  2048        conv2d_82[0][0]                  \n",
            "__________________________________________________________________________________________________\n",
            "activation_94 (Activation)      (None, 32, 32, 512)  0           batch_normalization_94[0][0]     \n",
            "__________________________________________________________________________________________________\n",
            "conv2d_83 (Conv2D)              (None, 32, 32, 512)  2359808     activation_94[0][0]              \n",
            "__________________________________________________________________________________________________\n",
            "batch_normalization_95 (BatchNo (None, 32, 32, 512)  2048        conv2d_83[0][0]                  \n",
            "__________________________________________________________________________________________________\n",
            "activation_95 (Activation)      (None, 32, 32, 512)  0           batch_normalization_95[0][0]     \n",
            "__________________________________________________________________________________________________\n",
            "max_pooling2d_19 (MaxPooling2D) (None, 16, 16, 512)  0           activation_95[0][0]              \n",
            "__________________________________________________________________________________________________\n",
            "conv2d_84 (Conv2D)              (None, 16, 16, 1024) 4719616     max_pooling2d_19[0][0]           \n",
            "__________________________________________________________________________________________________\n",
            "batch_normalization_96 (BatchNo (None, 16, 16, 1024) 4096        conv2d_84[0][0]                  \n",
            "__________________________________________________________________________________________________\n",
            "activation_96 (Activation)      (None, 16, 16, 1024) 0           batch_normalization_96[0][0]     \n",
            "__________________________________________________________________________________________________\n",
            "conv2d_85 (Conv2D)              (None, 16, 16, 1024) 9438208     activation_96[0][0]              \n",
            "__________________________________________________________________________________________________\n",
            "batch_normalization_97 (BatchNo (None, 16, 16, 1024) 4096        conv2d_85[0][0]                  \n",
            "__________________________________________________________________________________________________\n",
            "activation_97 (Activation)      (None, 16, 16, 1024) 0           batch_normalization_97[0][0]     \n",
            "__________________________________________________________________________________________________\n",
            "conv2d_transpose_16 (Conv2DTran (None, 32, 32, 512)  2097664     activation_97[0][0]              \n",
            "__________________________________________________________________________________________________\n",
            "concatenate_16 (Concatenate)    (None, 32, 32, 1024) 0           conv2d_transpose_16[0][0]        \n",
            "                                                                 activation_95[0][0]              \n",
            "__________________________________________________________________________________________________\n",
            "batch_normalization_98 (BatchNo (None, 32, 32, 1024) 4096        concatenate_16[0][0]             \n",
            "__________________________________________________________________________________________________\n",
            "activation_98 (Activation)      (None, 32, 32, 1024) 0           batch_normalization_98[0][0]     \n",
            "__________________________________________________________________________________________________\n",
            "conv2d_86 (Conv2D)              (None, 32, 32, 512)  4719104     activation_98[0][0]              \n",
            "__________________________________________________________________________________________________\n",
            "batch_normalization_99 (BatchNo (None, 32, 32, 512)  2048        conv2d_86[0][0]                  \n",
            "__________________________________________________________________________________________________\n",
            "activation_99 (Activation)      (None, 32, 32, 512)  0           batch_normalization_99[0][0]     \n",
            "__________________________________________________________________________________________________\n",
            "conv2d_87 (Conv2D)              (None, 32, 32, 512)  2359808     activation_99[0][0]              \n",
            "__________________________________________________________________________________________________\n",
            "batch_normalization_100 (BatchN (None, 32, 32, 512)  2048        conv2d_87[0][0]                  \n",
            "__________________________________________________________________________________________________\n",
            "activation_100 (Activation)     (None, 32, 32, 512)  0           batch_normalization_100[0][0]    \n",
            "__________________________________________________________________________________________________\n",
            "conv2d_transpose_17 (Conv2DTran (None, 64, 64, 256)  524544      activation_100[0][0]             \n",
            "__________________________________________________________________________________________________\n",
            "concatenate_17 (Concatenate)    (None, 64, 64, 512)  0           conv2d_transpose_17[0][0]        \n",
            "                                                                 activation_93[0][0]              \n",
            "__________________________________________________________________________________________________\n",
            "batch_normalization_101 (BatchN (None, 64, 64, 512)  2048        concatenate_17[0][0]             \n",
            "__________________________________________________________________________________________________\n",
            "activation_101 (Activation)     (None, 64, 64, 512)  0           batch_normalization_101[0][0]    \n",
            "__________________________________________________________________________________________________\n",
            "conv2d_88 (Conv2D)              (None, 64, 64, 256)  1179904     activation_101[0][0]             \n",
            "__________________________________________________________________________________________________\n",
            "batch_normalization_102 (BatchN (None, 64, 64, 256)  1024        conv2d_88[0][0]                  \n",
            "__________________________________________________________________________________________________\n",
            "activation_102 (Activation)     (None, 64, 64, 256)  0           batch_normalization_102[0][0]    \n",
            "__________________________________________________________________________________________________\n",
            "conv2d_89 (Conv2D)              (None, 64, 64, 256)  590080      activation_102[0][0]             \n",
            "__________________________________________________________________________________________________\n",
            "batch_normalization_103 (BatchN (None, 64, 64, 256)  1024        conv2d_89[0][0]                  \n",
            "__________________________________________________________________________________________________\n",
            "activation_103 (Activation)     (None, 64, 64, 256)  0           batch_normalization_103[0][0]    \n",
            "__________________________________________________________________________________________________\n",
            "conv2d_transpose_18 (Conv2DTran (None, 128, 128, 128 131200      activation_103[0][0]             \n",
            "__________________________________________________________________________________________________\n",
            "concatenate_18 (Concatenate)    (None, 128, 128, 256 0           conv2d_transpose_18[0][0]        \n",
            "                                                                 activation_91[0][0]              \n",
            "__________________________________________________________________________________________________\n",
            "batch_normalization_104 (BatchN (None, 128, 128, 256 1024        concatenate_18[0][0]             \n",
            "__________________________________________________________________________________________________\n",
            "activation_104 (Activation)     (None, 128, 128, 256 0           batch_normalization_104[0][0]    \n",
            "__________________________________________________________________________________________________\n",
            "conv2d_90 (Conv2D)              (None, 128, 128, 128 295040      activation_104[0][0]             \n",
            "__________________________________________________________________________________________________\n",
            "batch_normalization_105 (BatchN (None, 128, 128, 128 512         conv2d_90[0][0]                  \n",
            "__________________________________________________________________________________________________\n",
            "activation_105 (Activation)     (None, 128, 128, 128 0           batch_normalization_105[0][0]    \n",
            "__________________________________________________________________________________________________\n",
            "conv2d_91 (Conv2D)              (None, 128, 128, 128 147584      activation_105[0][0]             \n",
            "__________________________________________________________________________________________________\n",
            "batch_normalization_106 (BatchN (None, 128, 128, 128 512         conv2d_91[0][0]                  \n",
            "__________________________________________________________________________________________________\n",
            "activation_106 (Activation)     (None, 128, 128, 128 0           batch_normalization_106[0][0]    \n",
            "__________________________________________________________________________________________________\n",
            "conv2d_transpose_19 (Conv2DTran (None, 256, 256, 64) 32832       activation_106[0][0]             \n",
            "__________________________________________________________________________________________________\n",
            "concatenate_19 (Concatenate)    (None, 256, 256, 128 0           conv2d_transpose_19[0][0]        \n",
            "                                                                 activation_89[0][0]              \n",
            "__________________________________________________________________________________________________\n",
            "batch_normalization_107 (BatchN (None, 256, 256, 128 512         concatenate_19[0][0]             \n",
            "__________________________________________________________________________________________________\n",
            "activation_107 (Activation)     (None, 256, 256, 128 0           batch_normalization_107[0][0]    \n",
            "__________________________________________________________________________________________________\n",
            "conv2d_92 (Conv2D)              (None, 256, 256, 64) 73792       activation_107[0][0]             \n",
            "__________________________________________________________________________________________________\n",
            "batch_normalization_108 (BatchN (None, 256, 256, 64) 256         conv2d_92[0][0]                  \n",
            "__________________________________________________________________________________________________\n",
            "activation_108 (Activation)     (None, 256, 256, 64) 0           batch_normalization_108[0][0]    \n",
            "__________________________________________________________________________________________________\n",
            "conv2d_93 (Conv2D)              (None, 256, 256, 64) 36928       activation_108[0][0]             \n",
            "__________________________________________________________________________________________________\n",
            "batch_normalization_109 (BatchN (None, 256, 256, 64) 256         conv2d_93[0][0]                  \n",
            "__________________________________________________________________________________________________\n",
            "activation_109 (Activation)     (None, 256, 256, 64) 0           batch_normalization_109[0][0]    \n",
            "__________________________________________________________________________________________________\n",
            "conv2d_94 (Conv2D)              (None, 256, 256, 1)  65          activation_109[0][0]             \n",
            "==================================================================================================\n",
            "Total params: 31,062,977\n",
            "Trainable params: 31,047,361\n",
            "Non-trainable params: 15,616\n",
            "__________________________________________________________________________________________________\n"
          ],
          "name": "stdout"
        }
      ]
    },
    {
      "cell_type": "code",
      "metadata": {
        "colab": {
          "base_uri": "https://localhost:8080/"
        },
        "id": "Rui031w_W12e",
        "outputId": "3d6cece9-5396-43ef-b075-314ab8947ade"
      },
      "source": [
        "\n",
        "create_dir(\"results\")\n",
        "\n",
        "test_dataset_path=os.path.join(\"testing\",\"image_2\")\n",
        "test_x = load_data(test_dataset_path)\n",
        "\n",
        "\n",
        "for x in tqdm(test_x):\n",
        "    name=x.split(\"/\")[-1].split('.')[0]\n",
        "\n",
        "    ori_x,x,shape=read_image(x)\n",
        "    y_pred = model.predict(x)[0] > 0.5 # imp step convert in into 0 and 1\n",
        "    y_pred = np.squeeze(y_pred , axis=-1)\n",
        "    y_pred = y_pred.astype(np.float32)\n",
        "    y_pred = cv2.resize(y_pred,(shape[1],shape[0]))\n",
        "    save_path = f\"results//{name}.png\"\n",
        "    save_result(ori_x,y_pred,save_path,shape)"
      ],
      "execution_count": 6,
      "outputs": [
        {
          "output_type": "stream",
          "text": [
            "100%|██████████| 200/200 [07:22<00:00,  2.21s/it]\n"
          ],
          "name": "stderr"
        }
      ]
    },
    {
      "cell_type": "code",
      "metadata": {
        "id": "D0dpT3dVXGnV"
      },
      "source": [
        ""
      ],
      "execution_count": null,
      "outputs": []
    }
  ]
}